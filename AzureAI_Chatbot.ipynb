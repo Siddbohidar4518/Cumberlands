{
 "cells": [
  {
   "cell_type": "code",
   "execution_count": 1,
   "id": "f6a44b24-b3e3-4606-9bd7-fa71a3127096",
   "metadata": {},
   "outputs": [
    {
     "name": "stdout",
     "output_type": "stream",
     "text": [
      "Collecting azure-ai-textanalytics\n",
      "  Downloading azure_ai_textanalytics-5.3.0-py3-none-any.whl.metadata (82 kB)\n",
      "\u001b[2K     \u001b[90m━━━━━━━━━━━━━━━━━━━━━━━━━━━━━━━━━━━━━━━━\u001b[0m \u001b[32m82.8/82.8 kB\u001b[0m \u001b[31m2.4 MB/s\u001b[0m eta \u001b[36m0:00:00\u001b[0m\n",
      "\u001b[?25hRequirement already satisfied: nltk in /opt/anaconda3/lib/python3.12/site-packages (3.8.1)\n",
      "Requirement already satisfied: scikit-learn in /opt/anaconda3/lib/python3.12/site-packages (1.4.2)\n",
      "Collecting azure-core<2.0.0,>=1.24.0 (from azure-ai-textanalytics)\n",
      "  Downloading azure_core-1.32.0-py3-none-any.whl.metadata (39 kB)\n",
      "Collecting azure-common~=1.1 (from azure-ai-textanalytics)\n",
      "  Downloading azure_common-1.1.28-py2.py3-none-any.whl.metadata (5.0 kB)\n",
      "Collecting isodate<1.0.0,>=0.6.1 (from azure-ai-textanalytics)\n",
      "  Downloading isodate-0.7.2-py3-none-any.whl.metadata (11 kB)\n",
      "Requirement already satisfied: typing-extensions>=4.0.1 in /opt/anaconda3/lib/python3.12/site-packages (from azure-ai-textanalytics) (4.12.2)\n",
      "Requirement already satisfied: click in /opt/anaconda3/lib/python3.12/site-packages (from nltk) (8.1.7)\n",
      "Requirement already satisfied: joblib in /opt/anaconda3/lib/python3.12/site-packages (from nltk) (1.4.2)\n",
      "Requirement already satisfied: regex>=2021.8.3 in /opt/anaconda3/lib/python3.12/site-packages (from nltk) (2023.10.3)\n",
      "Requirement already satisfied: tqdm in /opt/anaconda3/lib/python3.12/site-packages (from nltk) (4.66.4)\n",
      "Requirement already satisfied: numpy>=1.19.5 in /opt/anaconda3/lib/python3.12/site-packages (from scikit-learn) (1.26.4)\n",
      "Requirement already satisfied: scipy>=1.6.0 in /opt/anaconda3/lib/python3.12/site-packages (from scikit-learn) (1.13.1)\n",
      "Requirement already satisfied: threadpoolctl>=2.0.0 in /opt/anaconda3/lib/python3.12/site-packages (from scikit-learn) (2.2.0)\n",
      "Requirement already satisfied: requests>=2.21.0 in /opt/anaconda3/lib/python3.12/site-packages (from azure-core<2.0.0,>=1.24.0->azure-ai-textanalytics) (2.32.2)\n",
      "Requirement already satisfied: six>=1.11.0 in /opt/anaconda3/lib/python3.12/site-packages (from azure-core<2.0.0,>=1.24.0->azure-ai-textanalytics) (1.16.0)\n",
      "Requirement already satisfied: charset-normalizer<4,>=2 in /opt/anaconda3/lib/python3.12/site-packages (from requests>=2.21.0->azure-core<2.0.0,>=1.24.0->azure-ai-textanalytics) (2.0.4)\n",
      "Requirement already satisfied: idna<4,>=2.5 in /opt/anaconda3/lib/python3.12/site-packages (from requests>=2.21.0->azure-core<2.0.0,>=1.24.0->azure-ai-textanalytics) (3.7)\n",
      "Requirement already satisfied: urllib3<3,>=1.21.1 in /opt/anaconda3/lib/python3.12/site-packages (from requests>=2.21.0->azure-core<2.0.0,>=1.24.0->azure-ai-textanalytics) (2.2.2)\n",
      "Requirement already satisfied: certifi>=2017.4.17 in /opt/anaconda3/lib/python3.12/site-packages (from requests>=2.21.0->azure-core<2.0.0,>=1.24.0->azure-ai-textanalytics) (2025.1.31)\n",
      "Downloading azure_ai_textanalytics-5.3.0-py3-none-any.whl (298 kB)\n",
      "\u001b[2K   \u001b[90m━━━━━━━━━━━━━━━━━━━━━━━━━━━━━━━━━━━━━━━━\u001b[0m \u001b[32m298.6/298.6 kB\u001b[0m \u001b[31m9.9 MB/s\u001b[0m eta \u001b[36m0:00:00\u001b[0m\n",
      "\u001b[?25hDownloading azure_common-1.1.28-py2.py3-none-any.whl (14 kB)\n",
      "Downloading azure_core-1.32.0-py3-none-any.whl (198 kB)\n",
      "\u001b[2K   \u001b[90m━━━━━━━━━━━━━━━━━━━━━━━━━━━━━━━━━━━━━━━━\u001b[0m \u001b[32m198.9/198.9 kB\u001b[0m \u001b[31m9.0 MB/s\u001b[0m eta \u001b[36m0:00:00\u001b[0m\n",
      "\u001b[?25hDownloading isodate-0.7.2-py3-none-any.whl (22 kB)\n",
      "Installing collected packages: azure-common, isodate, azure-core, azure-ai-textanalytics\n",
      "Successfully installed azure-ai-textanalytics-5.3.0 azure-common-1.1.28 azure-core-1.32.0 isodate-0.7.2\n",
      "Note: you may need to restart the kernel to use updated packages.\n"
     ]
    }
   ],
   "source": [
    "pip install azure-ai-textanalytics nltk scikit-learn"
   ]
  },
  {
   "cell_type": "code",
   "execution_count": 8,
   "id": "9d8d41a9-b4f4-406a-81bf-f271cb8897fe",
   "metadata": {},
   "outputs": [
    {
     "name": "stderr",
     "output_type": "stream",
     "text": [
      "[nltk_data] Downloading package punkt to\n",
      "[nltk_data]     /Users/siddbohidar/nltk_data...\n",
      "[nltk_data]   Package punkt is already up-to-date!\n",
      "[nltk_data] Downloading package stopwords to\n",
      "[nltk_data]     /Users/siddbohidar/nltk_data...\n",
      "[nltk_data]   Package stopwords is already up-to-date!\n",
      "[nltk_data] Downloading package wordnet to\n",
      "[nltk_data]     /Users/siddbohidar/nltk_data...\n",
      "[nltk_data]   Package wordnet is already up-to-date!\n"
     ]
    }
   ],
   "source": [
    "from azure.ai.textanalytics import TextAnalyticsClient\n",
    "from azure.core.credentials import AzureKeyCredential\n",
    "import nltk\n",
    "import random\n",
    "import string\n",
    "import numpy as np\n",
    "from sklearn.feature_extraction.text import TfidfVectorizer\n",
    "from sklearn.metrics.pairwise import cosine_similarity\n",
    "\n",
    "# Download necessary NLTK resources\n",
    "nltk.download(\"punkt\")\n",
    "nltk.download(\"stopwords\")\n",
    "nltk.download(\"wordnet\")\n",
    "\n",
    "from nltk.corpus import stopwords\n",
    "from nltk.stem import WordNetLemmatizer\n",
    "\n",
    "lemmatizer = WordNetLemmatizer()\n",
    "stop_words = set(stopwords.words(\"english\"))\n",
    "\n",
    "# Azure Language Service Credentials\n",
    "AZURE_LANGUAGE_KEY = \"6ySxQFHQPqOqCnr7ZEUnGxrYGgIf7srHYGYXJ2XBesaaqAgVsGVlJQQJ99BBACYeBjFXJ3w3AAAaACOGBhsu\"\n",
    "AZURE_LANGUAGE_ENDPOINT = \"https://week6languageservice.cognitiveservices.azure.com/\"\n",
    "\n",
    "def authenticate_client():\n",
    "    return TextAnalyticsClient(endpoint=AZURE_LANGUAGE_ENDPOINT, credential=AzureKeyCredential(AZURE_LANGUAGE_KEY))\n",
    "\n",
    "text_analytics_client = authenticate_client()\n"
   ]
  },
  {
   "cell_type": "code",
   "execution_count": 10,
   "id": "27bab116-f847-4b49-adfd-947ff7dae3d4",
   "metadata": {},
   "outputs": [],
   "source": [
    "# Analyze text using Azure's Language Service\n",
    "def analyze_text_with_azure(text):\n",
    "    documents = [text]\n",
    "    response = text_analytics_client.analyze_sentiment(documents=documents)[0]\n",
    "\n",
    "    sentiment = response.sentiment  # Positive, Neutral, Negative\n",
    "    key_phrases = text_analytics_client.extract_key_phrases(documents=documents)[0].key_phrases\n",
    "\n",
    "    return sentiment, key_phrases\n"
   ]
  },
  {
   "cell_type": "code",
   "execution_count": 14,
   "id": "190e8b04-7c14-4749-b24d-2c1451c42757",
   "metadata": {},
   "outputs": [],
   "source": [
    "# Predefined corpus (Questions and Answers)\n",
    "corpus = {\n",
    "    \"hello\": \"Hello! How can I assist you?\",\n",
    "    \"hi\": \"Hello! How can I assist you?\",\n",
    "    \"how are you\": \"I'm fine, thank you! How about you?\",\n",
    "    \"what is your name\": \"I am a chatbot created to help you.\",\n",
    "    \"can you explain machine learning\": \"Sure! Machine learning is a field of AI that allows computers to learn from data.\",\n",
    "    \"tell me a joke\": \"Why did the scarecrow win an award? Because he was outstanding in his field!\",\n",
    "    \"goodbye\": \"Goodbye! Have a great day!\",\n",
    "    \"what can you do?\": \"I can answer general questions, help with AI concepts, and provide information.\"\n",
    "}\n",
    "\n",
    "# Preprocess text\n",
    "def preprocess_input(text):\n",
    "    tokens = nltk.word_tokenize(text.lower())\n",
    "    tokens = [lemmatizer.lemmatize(word) for word in tokens if word not in stop_words and word not in string.punctuation]\n",
    "    return \" \".join(tokens)\n",
    "\n",
    "# Prepare corpus keys and responses\n",
    "questions = list(corpus.keys())\n",
    "responses = list(corpus.values())\n",
    "\n",
    "# Vectorize corpus\n",
    "vectorizer = TfidfVectorizer()\n",
    "X = vectorizer.fit_transform(questions)\n",
    "\n",
    "# Chatbot response function with Azure NLP\n",
    "def chatbot_response(user_input):\n",
    "    sentiment, key_phrases = analyze_text_with_azure(user_input)\n",
    "\n",
    "    print(f\"\\n*User Sentiment: {sentiment}*\") \n",
    "    print(f\"*Key Phrases: {', '.join(key_phrases)}*\\n\")  \n",
    "\n",
    "\n",
    "    # If user sentiment is negative, offer help\n",
    "    if sentiment == \"negative\":\n",
    "        return \"I'm sorry if you're having trouble. Can I help with something specific?\"\n",
    "\n",
    "    processed_input = preprocess_input(user_input)\n",
    "    input_vector = vectorizer.transform([processed_input])\n",
    "\n",
    "    # Compute similarity with predefined questions\n",
    "    similarity_scores = cosine_similarity(input_vector, X)\n",
    "    best_match_index = np.argmax(similarity_scores)\n",
    "\n",
    "    # If similarity score is low, return a generic response\n",
    "    if similarity_scores[0, best_match_index] < 0.3:\n",
    "        return \"I'm not sure how to respond to that. Can you rephrase?\"\n",
    "\n",
    "    return responses[best_match_index]\n"
   ]
  },
  {
   "cell_type": "code",
   "execution_count": 26,
   "id": "cc609a69-9f4b-46a2-a1d1-27dfed4622b7",
   "metadata": {},
   "outputs": [
    {
     "name": "stdout",
     "output_type": "stream",
     "text": [
      "Chatbot is ready! Type 'exit' to end.<b>\n"
     ]
    },
    {
     "name": "stdin",
     "output_type": "stream",
     "text": [
      "You:  hi\n"
     ]
    },
    {
     "name": "stdout",
     "output_type": "stream",
     "text": [
      "\n",
      "*User Sentiment: neutral*\n",
      "*Key Phrases: *\n",
      "\n",
      "Chatbot: Hello! How can I assist you?\n"
     ]
    },
    {
     "name": "stdin",
     "output_type": "stream",
     "text": [
      "You:  what is your name\n"
     ]
    },
    {
     "name": "stdout",
     "output_type": "stream",
     "text": [
      "\n",
      "*User Sentiment: neutral*\n",
      "*Key Phrases: name*\n",
      "\n",
      "Chatbot: I am a chatbot created to help you.\n"
     ]
    },
    {
     "name": "stdin",
     "output_type": "stream",
     "text": [
      "You:  tell me a joke\n"
     ]
    },
    {
     "name": "stdout",
     "output_type": "stream",
     "text": [
      "\n",
      "*User Sentiment: positive*\n",
      "*Key Phrases: joke*\n",
      "\n",
      "Chatbot: Why did the scarecrow win an award? Because he was outstanding in his field!\n"
     ]
    },
    {
     "name": "stdin",
     "output_type": "stream",
     "text": [
      "You:  not funny\n"
     ]
    },
    {
     "name": "stdout",
     "output_type": "stream",
     "text": [
      "\n",
      "*User Sentiment: negative*\n",
      "*Key Phrases: *\n",
      "\n",
      "Chatbot: I'm sorry if you're having trouble. Can I help with something specific?\n"
     ]
    },
    {
     "name": "stdin",
     "output_type": "stream",
     "text": [
      "You:  what can you do\n"
     ]
    },
    {
     "name": "stdout",
     "output_type": "stream",
     "text": [
      "\n",
      "*User Sentiment: neutral*\n",
      "*Key Phrases: *\n",
      "\n",
      "Chatbot: I'm not sure how to respond to that. Can you rephrase?\n"
     ]
    },
    {
     "name": "stdin",
     "output_type": "stream",
     "text": [
      "You:  goodbye\n"
     ]
    },
    {
     "name": "stdout",
     "output_type": "stream",
     "text": [
      "\n",
      "*User Sentiment: neutral*\n",
      "*Key Phrases: goodbye*\n",
      "\n",
      "Chatbot: Goodbye! Have a great day!\n"
     ]
    },
    {
     "name": "stdin",
     "output_type": "stream",
     "text": [
      "You:  exit\n"
     ]
    },
    {
     "name": "stdout",
     "output_type": "stream",
     "text": [
      "Chatbot: Goodbye! Have a great day!\n"
     ]
    }
   ],
   "source": [
    "# Running the chatbot\n",
    "print(\"Chatbot is ready! Type 'exit' to end.<b>\")\n",
    "while True:\n",
    "    user_input = input(\"You: \")\n",
    "    if user_input.lower() == \"exit\":\n",
    "        print(\"Chatbot: Goodbye! Have a great day!\")\n",
    "        break\n",
    "    print(\"Chatbot:\", chatbot_response(user_input))"
   ]
  },
  {
   "cell_type": "code",
   "execution_count": null,
   "id": "2cb6105d-576e-4894-a243-43510e11fa0d",
   "metadata": {},
   "outputs": [],
   "source": []
  }
 ],
 "metadata": {
  "kernelspec": {
   "display_name": "Python 3 (ipykernel)",
   "language": "python",
   "name": "python3"
  },
  "language_info": {
   "codemirror_mode": {
    "name": "ipython",
    "version": 3
   },
   "file_extension": ".py",
   "mimetype": "text/x-python",
   "name": "python",
   "nbconvert_exporter": "python",
   "pygments_lexer": "ipython3",
   "version": "3.12.4"
  }
 },
 "nbformat": 4,
 "nbformat_minor": 5
}
