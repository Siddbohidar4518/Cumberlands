{
 "cells": [
  {
   "cell_type": "code",
   "execution_count": 7,
   "id": "79a576c5-d1a3-4b46-9d54-af6edec566b3",
   "metadata": {},
   "outputs": [
    {
     "name": "stdout",
     "output_type": "stream",
     "text": [
      "Welcome to the Adaptive Quiz System!\n",
      "Type 'exit' anytime to quit.\n",
      "\n"
     ]
    },
    {
     "name": "stdin",
     "output_type": "stream",
     "text": [
      "[Easy] What is 2 + 2?  4\n"
     ]
    },
    {
     "name": "stdout",
     "output_type": "stream",
     "text": [
      "Correct!\n",
      "\n"
     ]
    },
    {
     "name": "stdin",
     "output_type": "stream",
     "text": [
      "[Easy] What color is the sky?  blue\n"
     ]
    },
    {
     "name": "stdout",
     "output_type": "stream",
     "text": [
      "Correct!\n",
      "\n",
      "Level Up! Moving to Medium Difficulty.\n",
      "\n"
     ]
    },
    {
     "name": "stdin",
     "output_type": "stream",
     "text": [
      "[Medium] In which country is the Eiffel Tower located?  france\n"
     ]
    },
    {
     "name": "stdout",
     "output_type": "stream",
     "text": [
      "Correct!\n",
      "\n"
     ]
    },
    {
     "name": "stdin",
     "output_type": "stream",
     "text": [
      "[Medium] Which planet is known as the Red Planet?  mars\n"
     ]
    },
    {
     "name": "stdout",
     "output_type": "stream",
     "text": [
      "Correct!\n",
      "\n",
      "Level Up! Moving to Hard Difficulty.\n",
      "\n"
     ]
    },
    {
     "name": "stdin",
     "output_type": "stream",
     "text": [
      "[Hard] Who developed General Relativity?  einstein\n"
     ]
    },
    {
     "name": "stdout",
     "output_type": "stream",
     "text": [
      "Correct!\n",
      "\n"
     ]
    },
    {
     "name": "stdin",
     "output_type": "stream",
     "text": [
      "[Hard] Solve: 15 * 12 - 10 / 2  1111\n"
     ]
    },
    {
     "name": "stdout",
     "output_type": "stream",
     "text": [
      "Wrong! The correct answer was: 170\n",
      "\n"
     ]
    },
    {
     "name": "stdin",
     "output_type": "stream",
     "text": [
      "[Hard] Which country won the first FIFA World Cup?  brazil\n"
     ]
    },
    {
     "name": "stdout",
     "output_type": "stream",
     "text": [
      "Wrong! The correct answer was: uruguay\n",
      "\n",
      "Level Down! Moving to Medium Difficulty.\n",
      "\n"
     ]
    },
    {
     "name": "stdin",
     "output_type": "stream",
     "text": [
      "[Medium] What is the boiling point of water in Celsius?  100\n"
     ]
    },
    {
     "name": "stdout",
     "output_type": "stream",
     "text": [
      "Correct!\n",
      "\n"
     ]
    },
    {
     "name": "stdin",
     "output_type": "stream",
     "text": [
      "[Medium] Who wrote 'Romeo and Juliet'?  shakespeare\n"
     ]
    },
    {
     "name": "stdout",
     "output_type": "stream",
     "text": [
      "Correct!\n",
      "\n",
      "Level Up! Moving to Hard Difficulty.\n",
      "\n"
     ]
    },
    {
     "name": "stdin",
     "output_type": "stream",
     "text": [
      "[Hard] What is the chemical symbol for Gold?  au\n"
     ]
    },
    {
     "name": "stdout",
     "output_type": "stream",
     "text": [
      "Correct!\n",
      "\n"
     ]
    },
    {
     "name": "stdin",
     "output_type": "stream",
     "text": [
      "[Hard] What year did World War II end?  1945\n"
     ]
    },
    {
     "name": "stdout",
     "output_type": "stream",
     "text": [
      "Correct!\n",
      "\n",
      "\n",
      "No more hard level questions left!\n",
      "Your Final Score is: 80\n",
      "Thanks for playing the Adaptive Quiz!\n"
     ]
    }
   ],
   "source": [
    "import random\n",
    "\n",
    "# Define quiz questions in levels\n",
    "quiz_questions = {\n",
    "    'easy': [\n",
    "        {\"question\": \"What is 2 + 2?\", \"answer\": \"4\"},\n",
    "        {\"question\": \"What color is the sky?\", \"answer\": \"blue\"},\n",
    "        {\"question\": \"What is the capital of India?\", \"answer\": \"delhi\"},\n",
    "        {\"question\": \"How many legs does a spider have?\", \"answer\": \"8\"},\n",
    "        {\"question\": \"What is the opposite of 'hot'?\", \"answer\": \"cold\"}\n",
    "    ],\n",
    "    'medium': [\n",
    "        {\"question\": \"What is 12 x 12?\", \"answer\": \"144\"},\n",
    "        {\"question\": \"Who wrote 'Romeo and Juliet'?\", \"answer\": \"shakespeare\"},\n",
    "        {\"question\": \"What is the boiling point of water in Celsius?\", \"answer\": \"100\"},\n",
    "        {\"question\": \"Which planet is known as the Red Planet?\", \"answer\": \"mars\"},\n",
    "        {\"question\": \"In which country is the Eiffel Tower located?\", \"answer\": \"france\"}\n",
    "    ],\n",
    "    'hard': [\n",
    "        {\"question\": \"Solve: 15 * 12 - 10 / 2\", \"answer\": \"170\"},\n",
    "        {\"question\": \"What year did World War II end?\", \"answer\": \"1945\"},\n",
    "        {\"question\": \"Who developed General Relativity?\", \"answer\": \"einstein\"},\n",
    "        {\"question\": \"What is the chemical symbol for Gold?\", \"answer\": \"au\"},\n",
    "        {\"question\": \"Which country won the first FIFA World Cup?\", \"answer\": \"uruguay\"}\n",
    "    ]\n",
    "}\n",
    "\n",
    "# Set to keep track of already asked questions\n",
    "asked_questions = set()\n",
    "\n",
    "print(\"Welcome to the Adaptive Quiz System!\")\n",
    "print(\"Type 'exit' anytime to quit.\\n\")\n",
    "\n",
    "# Initial Difficulty Level\n",
    "difficulty = 'easy'\n",
    "score = 0\n",
    "correct_streak = 0\n",
    "wrong_streak = 0\n",
    "\n",
    "while True:\n",
    "    available_questions = [q for q in quiz_questions[difficulty] if q['question'] not in asked_questions]\n",
    "\n",
    "    if not available_questions:\n",
    "        print(f\"\\nNo more {difficulty} level questions left!\")\n",
    "        break\n",
    "\n",
    "    question = random.choice(available_questions)\n",
    "    asked_questions.add(question['question'])\n",
    "\n",
    "    user_answer = input(f\"[{difficulty.capitalize()}] {question['question']} \").strip().lower()\n",
    "\n",
    "    if user_answer == 'exit':\n",
    "        print(f\"\\nFinal Score: {score}\")\n",
    "        break\n",
    "\n",
    "    if user_answer == question['answer']:\n",
    "        print(\"Correct!\\n\")\n",
    "        score += 10\n",
    "        correct_streak += 1\n",
    "        wrong_streak = 0\n",
    "    else:\n",
    "        print(f\"Wrong! The correct answer was: {question['answer']}\\n\")\n",
    "        score -= 5\n",
    "        wrong_streak += 1\n",
    "        correct_streak = 0\n",
    "\n",
    "    # Adaptive Logic for Difficulty\n",
    "    if correct_streak >= 2:\n",
    "        if difficulty == 'easy':\n",
    "            difficulty = 'medium'\n",
    "            print(\"Level Up! Moving to Medium Difficulty.\\n\")\n",
    "        elif difficulty == 'medium':\n",
    "            difficulty = 'hard'\n",
    "            print(\"Level Up! Moving to Hard Difficulty.\\n\")\n",
    "        correct_streak = 0\n",
    "\n",
    "    if wrong_streak >= 2:\n",
    "        if difficulty == 'hard':\n",
    "            difficulty = 'medium'\n",
    "            print(\"Level Down! Moving to Medium Difficulty.\\n\")\n",
    "        elif difficulty == 'medium':\n",
    "            difficulty = 'easy'\n",
    "            print(\"Level Down! Moving to Easy Difficulty.\\n\")\n",
    "        wrong_streak = 0\n",
    "\n",
    "print(f\"Your Final Score is: {score}\")\n",
    "print(\"Thanks for playing the Adaptive Quiz!\")\n"
   ]
  },
  {
   "cell_type": "code",
   "execution_count": null,
   "id": "7aee6ddb-3719-4eb3-a54e-841e6ba3004e",
   "metadata": {},
   "outputs": [],
   "source": []
  }
 ],
 "metadata": {
  "kernelspec": {
   "display_name": "Python 3 (ipykernel)",
   "language": "python",
   "name": "python3"
  },
  "language_info": {
   "codemirror_mode": {
    "name": "ipython",
    "version": 3
   },
   "file_extension": ".py",
   "mimetype": "text/x-python",
   "name": "python",
   "nbconvert_exporter": "python",
   "pygments_lexer": "ipython3",
   "version": "3.12.4"
  }
 },
 "nbformat": 4,
 "nbformat_minor": 5
}
