{
 "cells": [
  {
   "cell_type": "code",
   "execution_count": 7,
   "id": "2bfa8c00-0a5b-40ec-b72e-49e0bd006ebf",
   "metadata": {},
   "outputs": [
    {
     "name": "stderr",
     "output_type": "stream",
     "text": [
      "[nltk_data] Downloading package punkt to\n",
      "[nltk_data]     /Users/siddbohidar/nltk_data...\n",
      "[nltk_data]   Package punkt is already up-to-date!\n",
      "[nltk_data] Downloading package stopwords to\n",
      "[nltk_data]     /Users/siddbohidar/nltk_data...\n",
      "[nltk_data]   Package stopwords is already up-to-date!\n",
      "[nltk_data] Downloading package wordnet to\n",
      "[nltk_data]     /Users/siddbohidar/nltk_data...\n",
      "[nltk_data]   Package wordnet is already up-to-date!\n"
     ]
    },
    {
     "name": "stdout",
     "output_type": "stream",
     "text": [
      "Chatbot is ready! Type 'exit' to end.\n"
     ]
    },
    {
     "name": "stdin",
     "output_type": "stream",
     "text": [
      "You:  Hi\n"
     ]
    },
    {
     "name": "stdout",
     "output_type": "stream",
     "text": [
      "Chatbot: Hello! How can I assist you?\n"
     ]
    },
    {
     "name": "stdin",
     "output_type": "stream",
     "text": [
      "You:  How are you?\n"
     ]
    },
    {
     "name": "stdout",
     "output_type": "stream",
     "text": [
      "Chatbot: I'm not sure how to respond to that. Can you rephrase?\n"
     ]
    },
    {
     "name": "stdin",
     "output_type": "stream",
     "text": [
      "You:  What is your name\n"
     ]
    },
    {
     "name": "stdout",
     "output_type": "stream",
     "text": [
      "Chatbot: I am a chatbot created to help you.\n"
     ]
    },
    {
     "name": "stdin",
     "output_type": "stream",
     "text": [
      "You:  tell me a joke\n"
     ]
    },
    {
     "name": "stdout",
     "output_type": "stream",
     "text": [
      "Chatbot: Why did the scarecrow win an award? Because he was outstanding in his field!\n"
     ]
    },
    {
     "name": "stdin",
     "output_type": "stream",
     "text": [
      "You:  what can you do\"\n"
     ]
    },
    {
     "name": "stdout",
     "output_type": "stream",
     "text": [
      "Chatbot: I'm not sure how to respond to that. Can you rephrase?\n"
     ]
    },
    {
     "name": "stdin",
     "output_type": "stream",
     "text": [
      "You:  what can you do\n"
     ]
    },
    {
     "name": "stdout",
     "output_type": "stream",
     "text": [
      "Chatbot: I'm not sure how to respond to that. Can you rephrase?\n"
     ]
    },
    {
     "name": "stdin",
     "output_type": "stream",
     "text": [
      "You:  can you explain machine learning\n"
     ]
    },
    {
     "name": "stdout",
     "output_type": "stream",
     "text": [
      "Chatbot: Sure! Machine learning is a field of AI that allows computers to learn from data.\n"
     ]
    },
    {
     "name": "stdin",
     "output_type": "stream",
     "text": [
      "You:  goodbye\n"
     ]
    },
    {
     "name": "stdout",
     "output_type": "stream",
     "text": [
      "Chatbot: Goodbye! Have a great day!\n"
     ]
    },
    {
     "name": "stdin",
     "output_type": "stream",
     "text": [
      "You:  exit\n"
     ]
    },
    {
     "name": "stdout",
     "output_type": "stream",
     "text": [
      "Chatbot: Goodbye! Have a great day!\n"
     ]
    }
   ],
   "source": [
    "import nltk\n",
    "import random\n",
    "import string\n",
    "import numpy as np\n",
    "from sklearn.feature_extraction.text import TfidfVectorizer\n",
    "from sklearn.metrics.pairwise import cosine_similarity\n",
    "\n",
    "# Download necessary NLTK resources\n",
    "nltk.download(\"punkt\")\n",
    "nltk.download(\"stopwords\")\n",
    "nltk.download(\"wordnet\")\n",
    "\n",
    "from nltk.corpus import stopwords\n",
    "from nltk.stem import WordNetLemmatizer\n",
    "\n",
    "lemmatizer = WordNetLemmatizer()\n",
    "stop_words = set(stopwords.words(\"english\"))\n",
    "\n",
    "# Predefined corpus (Questions and Answers)\n",
    "corpus = {\n",
    "    \"hello\": \"Hello! How can I assist you?\",\n",
    "    \"hi\": \"Hello! How can I assist you?\",\n",
    "    \"how are you\": \"I'm fine, thank you! How about you?\",\n",
    "    \"what is your name\": \"I am a chatbot created to help you.\",\n",
    "    \"can you explain machine learning\": \"Sure! Machine learning is a field of AI that allows computers to learn from data.\",\n",
    "    \"tell me a joke\": \"Why did the scarecrow win an award? Because he was outstanding in his field!\",\n",
    "    \"goodbye\": \"Goodbye! Have a great day!\",\n",
    "    \"what can you do\": \"I can answer general questions, help with AI concepts, and provide information.\"\n",
    "}\n",
    "\n",
    "# Preprocess text\n",
    "def preprocess_input(text):\n",
    "    tokens = nltk.word_tokenize(text.lower())\n",
    "    tokens = [lemmatizer.lemmatize(word) for word in tokens if word not in stop_words and word not in string.punctuation]\n",
    "    return \" \".join(tokens)\n",
    "\n",
    "# Prepare corpus keys and responses\n",
    "questions = list(corpus.keys())\n",
    "responses = list(corpus.values())\n",
    "\n",
    "# Vectorize corpus\n",
    "vectorizer = TfidfVectorizer()\n",
    "X = vectorizer.fit_transform(questions)\n",
    "\n",
    "# Chatbot response function\n",
    "def chatbot_response(user_input):\n",
    "    processed_input = preprocess_input(user_input)\n",
    "    input_vector = vectorizer.transform([processed_input])\n",
    "\n",
    "    # Compute similarity with all predefined questions\n",
    "    similarity_scores = cosine_similarity(input_vector, X)\n",
    "    best_match_index = np.argmax(similarity_scores)\n",
    "\n",
    "    # If the similarity score is too low, return a default response\n",
    "    if similarity_scores[0, best_match_index] < 0.3:\n",
    "        return \"I'm not sure how to respond to that. Can you rephrase?\"\n",
    "\n",
    "    return responses[best_match_index]\n",
    "\n",
    "# Running the chatbot\n",
    "print(\"Chatbot is ready! Type 'exit' to end.\")\n",
    "while True:\n",
    "    user_input = input(\"You: \")\n",
    "    if user_input.lower() == \"exit\":\n",
    "        print(\"Chatbot: Goodbye! Have a great day!\")\n",
    "        break\n",
    "    print(\"Chatbot:\", chatbot_response(user_input))\n"
   ]
  },
  {
   "cell_type": "code",
   "execution_count": null,
   "id": "fde74e95-b93a-4985-bc98-674c203542b4",
   "metadata": {},
   "outputs": [],
   "source": []
  }
 ],
 "metadata": {
  "kernelspec": {
   "display_name": "Python 3 (ipykernel)",
   "language": "python",
   "name": "python3"
  },
  "language_info": {
   "codemirror_mode": {
    "name": "ipython",
    "version": 3
   },
   "file_extension": ".py",
   "mimetype": "text/x-python",
   "name": "python",
   "nbconvert_exporter": "python",
   "pygments_lexer": "ipython3",
   "version": "3.12.4"
  }
 },
 "nbformat": 4,
 "nbformat_minor": 5
}
